{
 "cells": [
  {
   "cell_type": "code",
   "execution_count": 772,
   "metadata": {},
   "outputs": [],
   "source": [
    "import pandas as pd\n",
    "import numpy as np\n",
    "import matplotlib.pyplot as plt\n",
    "import seaborn as sns\n",
    "from sklearn.preprocessing import LabelEncoder, OneHotEncoder,StandardScaler\n",
    "from sklearn.metrics import accuracy_score\n",
    "from sklearn.model_selection import train_test_split\n",
    "from sklearn import metrics\n",
    "import warnings\n",
    "warnings.filterwarnings(\"ignore\")"
   ]
  },
  {
   "cell_type": "code",
   "execution_count": 773,
   "metadata": {},
   "outputs": [],
   "source": [
    "df=pd.read_csv('dataset.csv')"
   ]
  },
  {
   "cell_type": "code",
   "execution_count": 774,
   "metadata": {},
   "outputs": [],
   "source": [
    "# df.head()"
   ]
  },
  {
   "cell_type": "code",
   "execution_count": 775,
   "metadata": {
    "scrolled": true
   },
   "outputs": [],
   "source": [
    "# df.nunique()"
   ]
  },
  {
   "cell_type": "code",
   "execution_count": 776,
   "metadata": {},
   "outputs": [],
   "source": [
    "# df.isnull().values.any()"
   ]
  },
  {
   "cell_type": "code",
   "execution_count": 777,
   "metadata": {},
   "outputs": [],
   "source": [
    "# df=pd.get_dummies(df)\n",
    "# df.head()\n",
    "# print(X,y)\n",
    "# df.describe()"
   ]
  },
  {
   "cell_type": "code",
   "execution_count": 778,
   "metadata": {},
   "outputs": [],
   "source": [
    "# df['SeniorCitizen'].value_counts()"
   ]
  },
  {
   "cell_type": "code",
   "execution_count": 779,
   "metadata": {},
   "outputs": [],
   "source": [
    "# df['MultipleLines'].value_counts()"
   ]
  },
  {
   "cell_type": "code",
   "execution_count": 780,
   "metadata": {},
   "outputs": [],
   "source": [
    "# df['InternetService'].value_counts()"
   ]
  },
  {
   "cell_type": "code",
   "execution_count": 781,
   "metadata": {},
   "outputs": [],
   "source": [
    "# df['OnlineSecurity'].value_counts()"
   ]
  },
  {
   "cell_type": "code",
   "execution_count": 782,
   "metadata": {},
   "outputs": [],
   "source": [
    "# df['Contract'].value_counts()"
   ]
  },
  {
   "cell_type": "code",
   "execution_count": 783,
   "metadata": {},
   "outputs": [],
   "source": [
    "# df['PaymentMethod'].value_counts()"
   ]
  },
  {
   "cell_type": "code",
   "execution_count": 784,
   "metadata": {},
   "outputs": [],
   "source": [
    "replace_cols = [ 'OnlineSecurity', 'OnlineBackup', 'DeviceProtection',\n",
    "                'TechSupport','StreamingTV', 'StreamingMovies']\n",
    "for i in replace_cols : \n",
    "    df[i]=df[i].replace({'No internet service' : 'No'})\n",
    "df[\"MultipleLines\"]=df[\"MultipleLines\"].replace({'No phone service' : 'No'})"
   ]
  },
  {
   "cell_type": "code",
   "execution_count": 785,
   "metadata": {},
   "outputs": [],
   "source": [
    "# df.head()"
   ]
  },
  {
   "cell_type": "code",
   "execution_count": 786,
   "metadata": {},
   "outputs": [],
   "source": [
    "df[\"Partner\"] = df[\"Partner\"].replace({\"Yes\":1,\"No\":0})\n",
    "df[\"Dependents\"] = df[\"Dependents\"].replace({\"Yes\":1,\"No\":0})\n",
    "df[\"PhoneService\"] = df[\"PhoneService\"].replace({\"Yes\":1,\"No\":0})\n",
    "df[\"MultipleLines\"] = df[\"MultipleLines\"].replace({\"Yes\":1,\"No\":0})\n",
    "df[\"OnlineSecurity\"] = df[\"OnlineSecurity\"].replace({\"Yes\":1,\"No\":0})\n",
    "df[\"OnlineBackup\"] = df[\"OnlineBackup\"].replace({\"Yes\":1,\"No\":0})\n",
    "df[\"DeviceProtection\"] = df[\"DeviceProtection\"].replace({\"Yes\":1,\"No\":0})\n",
    "df[\"TechSupport\"] = df[\"TechSupport\"].replace({\"Yes\":1,\"No\":0})\n",
    "df[\"StreamingTV\"] = df[\"StreamingTV\"].replace({\"Yes\":1,\"No\":0})\n",
    "df[\"StreamingMovies\"] = df[\"StreamingMovies\"].replace({\"Yes\":1,\"No\":0})\n",
    "df[\"PaperlessBilling\"] = df[\"PaperlessBilling\"].replace({\"Yes\":1,\"No\":0})"
   ]
  },
  {
   "cell_type": "code",
   "execution_count": 787,
   "metadata": {
    "scrolled": true
   },
   "outputs": [],
   "source": [
    "# df.head()"
   ]
  },
  {
   "cell_type": "code",
   "execution_count": 788,
   "metadata": {
    "scrolled": false
   },
   "outputs": [],
   "source": [
    "# df.info()"
   ]
  },
  {
   "cell_type": "code",
   "execution_count": 789,
   "metadata": {},
   "outputs": [],
   "source": [
    "# df[\"TotalCharges\"] = df[\"TotalCharges\"].astype(float)"
   ]
  },
  {
   "cell_type": "code",
   "execution_count": 790,
   "metadata": {},
   "outputs": [],
   "source": [
    "df.drop(['TotalCharges'],axis=1,inplace=True)"
   ]
  },
  {
   "cell_type": "code",
   "execution_count": 791,
   "metadata": {},
   "outputs": [],
   "source": [
    "# df['TotalCharges']= df['MonthlyCharges'] * df['tenure']"
   ]
  },
  {
   "cell_type": "code",
   "execution_count": 792,
   "metadata": {},
   "outputs": [],
   "source": [
    "# Var_Corr = df.corr()\n",
    "# sns.heatmap(Var_Corr, xticklabels=Var_Corr.columns, yticklabels=Var_Corr.columns, annot=True)"
   ]
  },
  {
   "cell_type": "code",
   "execution_count": 793,
   "metadata": {},
   "outputs": [],
   "source": [
    "# df.info()"
   ]
  },
  {
   "cell_type": "code",
   "execution_count": 794,
   "metadata": {},
   "outputs": [],
   "source": [
    "X = df.iloc[:, 1:-1].values\n",
    "y = df.iloc[:, -1].values"
   ]
  },
  {
   "cell_type": "code",
   "execution_count": 795,
   "metadata": {},
   "outputs": [],
   "source": [
    "labelencoder_X_0 = LabelEncoder()\n",
    "X[:, 0] = labelencoder_X_0.fit_transform(X[:, 0])\n",
    "# labelencoder_X_6 = LabelEncoder()\n",
    "# X[:, 6] = labelencoder_X_6.fit_transform(X[:, 6])\n",
    "labelencoder_X_7 = LabelEncoder()\n",
    "X[:, 7] = labelencoder_X_7.fit_transform(X[:, 7])\n",
    "labelencoder_X_14 = LabelEncoder()\n",
    "X[:, 14] = labelencoder_X_14.fit_transform(X[:, 14])\n",
    "labelencoder_X_16 = LabelEncoder()\n",
    "X[:, 16] = labelencoder_X_16.fit_transform(X[:, 16])\n",
    "X = X.astype(float)\n",
    "labelencoder_y= LabelEncoder()\n",
    "y = labelencoder_y.fit_transform(y)"
   ]
  },
  {
   "cell_type": "code",
   "execution_count": 796,
   "metadata": {},
   "outputs": [],
   "source": [
    "# print(X)"
   ]
  },
  {
   "cell_type": "code",
   "execution_count": 797,
   "metadata": {},
   "outputs": [],
   "source": [
    "onehotencoder0 = OneHotEncoder(categorical_features = [0])\n",
    "X = onehotencoder0.fit_transform(X).toarray()\n",
    "X = X[:,1:]\n",
    "\n",
    "# onehotencoder6 = OneHotEncoder(categorical_features = [6])\n",
    "# X = onehotencoder6.fit_transform(X).toarray()\n",
    "# X = X[:,1:]\n",
    "\n",
    "onehotencoder7 = OneHotEncoder(categorical_features = [7])\n",
    "X = onehotencoder7.fit_transform(X).toarray()\n",
    "X = X[:,1:]\n",
    "\n",
    "onehotencoder14 = OneHotEncoder(categorical_features = [15])\n",
    "X = onehotencoder14.fit_transform(X).toarray()\n",
    "X = X[:,1:]\n",
    "\n",
    "onehotencoder16 = OneHotEncoder(categorical_features = [17])\n",
    "X = onehotencoder16.fit_transform(X).toarray()\n",
    "X = X[:,1:]\n"
   ]
  },
  {
   "cell_type": "code",
   "execution_count": 798,
   "metadata": {},
   "outputs": [
    {
     "data": {
      "text/plain": [
       "'import plotly.offline as py#visualization\\npy.init_notebook_mode(connected=True)#visualization\\nimport plotly.graph_objs as go#visualization\\nimport plotly.tools as tls#visualization\\nimport plotly.figure_factory as ff#visualization\\ncorrelation = df.corr()\\nmatrix_cols = correlation.columns.tolist()\\ncorr_array  = np.array(correlation)\\ntrace = go.Heatmap(z = corr_array,\\n                   x = matrix_cols,\\n                   y = matrix_cols,\\n                   colorscale = \"Viridis\",\\n                   colorbar   = dict(title = \"Pearson Correlation coefficient\",\\n                                     titleside = \"right\"\\n                                    ) ,\\n                  )\\n\\nlayout = go.Layout(dict(title = \"Correlation Matrix for variables\",\\n                        autosize = False,\\n                        height  = 720,\\n                        width   = 800,\\n                        margin  = dict(r = 0 ,l = 210,\\n                                       t = 25,b = 210,\\n                                      ),\\n                        yaxis   = dict(tickfont = dict(size = 9)),\\n                        xaxis   = dict(tickfont = dict(size = 9))\\n                       )\\n                  )\\n\\ndata = [trace]\\nfig = go.Figure(data=data,layout=layout)\\npy.iplot(fig)'"
      ]
     },
     "execution_count": 798,
     "metadata": {},
     "output_type": "execute_result"
    }
   ],
   "source": [
    "'''import plotly.offline as py#visualization\n",
    "py.init_notebook_mode(connected=True)#visualization\n",
    "import plotly.graph_objs as go#visualization\n",
    "import plotly.tools as tls#visualization\n",
    "import plotly.figure_factory as ff#visualization\n",
    "correlation = df.corr()\n",
    "matrix_cols = correlation.columns.tolist()\n",
    "corr_array  = np.array(correlation)\n",
    "trace = go.Heatmap(z = corr_array,\n",
    "                   x = matrix_cols,\n",
    "                   y = matrix_cols,\n",
    "                   colorscale = \"Viridis\",\n",
    "                   colorbar   = dict(title = \"Pearson Correlation coefficient\",\n",
    "                                     titleside = \"right\"\n",
    "                                    ) ,\n",
    "                  )\n",
    "\n",
    "layout = go.Layout(dict(title = \"Correlation Matrix for variables\",\n",
    "                        autosize = False,\n",
    "                        height  = 720,\n",
    "                        width   = 800,\n",
    "                        margin  = dict(r = 0 ,l = 210,\n",
    "                                       t = 25,b = 210,\n",
    "                                      ),\n",
    "                        yaxis   = dict(tickfont = dict(size = 9)),\n",
    "                        xaxis   = dict(tickfont = dict(size = 9))\n",
    "                       )\n",
    "                  )\n",
    "\n",
    "data = [trace]\n",
    "fig = go.Figure(data=data,layout=layout)\n",
    "py.iplot(fig)'''"
   ]
  },
  {
   "cell_type": "code",
   "execution_count": 799,
   "metadata": {},
   "outputs": [],
   "source": [
    "# print(X)"
   ]
  },
  {
   "cell_type": "code",
   "execution_count": 800,
   "metadata": {},
   "outputs": [],
   "source": [
    "X_train, X_test, y_train, y_test = train_test_split(X, y, test_size = 0.4)"
   ]
  },
  {
   "cell_type": "code",
   "execution_count": 801,
   "metadata": {},
   "outputs": [
    {
     "data": {
      "text/plain": [
       "'sc = StandardScaler()\\nX_train = sc.fit_transform(X_train)\\nX_test = sc.transform(X_test)\\nfrom sklearn.decomposition import PCA\\n\\npca = PCA()  \\nX_train = pca.fit_transform(X_train)  \\nX_test = pca.transform(X_test)\\nexplained_variance = pca.explained_variance_ratio_ \\nprint(explained_variance*100)'"
      ]
     },
     "execution_count": 801,
     "metadata": {},
     "output_type": "execute_result"
    }
   ],
   "source": [
    "'''sc = StandardScaler()\n",
    "X_train = sc.fit_transform(X_train)\n",
    "X_test = sc.transform(X_test)\n",
    "from sklearn.decomposition import PCA\n",
    "\n",
    "pca = PCA()  \n",
    "X_train = pca.fit_transform(X_train)  \n",
    "X_test = pca.transform(X_test)\n",
    "explained_variance = pca.explained_variance_ratio_ \n",
    "print(explained_variance*100)'''"
   ]
  },
  {
   "cell_type": "code",
   "execution_count": 802,
   "metadata": {},
   "outputs": [
    {
     "data": {
      "text/plain": [
       "'from keras.wrappers.scikit_learn import KerasClassifier\\nfrom sklearn.model_selection import GridSearchCV\\nfrom sklearn.metrics import confusion_matrix,classification_report\\nfrom keras.layers import BatchNormalization\\nfrom keras.models import Sequential\\nfrom keras.layers import Dropout\\nfrom keras.layers import Dense\\nimport collections\\nimport warnings\\nwarnings.filterwarnings(\"ignore\")\\nclassifier = Sequential()\\nclassifier.add(Dense(units=6,kernel_initializer=\"uniform\",activation=\"relu\",input_shape=(20,)))\\nclassifier.add(BatchNormalization(axis=-1, momentum=0.99, epsilon=0.001, center=True, scale=True))\\nclassifier.add(Dense(units=6,kernel_initializer=\"uniform\",activation=\"relu\"))\\nclassifier.add(BatchNormalization(axis=-1, momentum=0.99, epsilon=0.001, center=True, scale=True))\\nclassifier.add(Dense(units=6,kernel_initializer=\"uniform\",activation=\"relu\"))\\nclassifier.add(BatchNormalization(axis=-1, momentum=0.99, epsilon=0.001, center=True, scale=True))\\nclassifier.add(Dropout(0.2))\\nclassifier.add(Dense(units=1,kernel_initializer=\"uniform\",activation=\"sigmoid\"))\\nclassifier.compile(optimizer = \\'adam\\', loss = \\'binary_crossentropy\\', metrics = [\\'accuracy\\'])\\nclassifier.fit(X_train, y_train, batch_size = 100, nb_epoch = 100)\\ny_pred = classifier.predict(X_test)\\ny_pred = (y_pred > 0.5)\\nprint(classification_report(y_test,y_pred))'"
      ]
     },
     "execution_count": 802,
     "metadata": {},
     "output_type": "execute_result"
    }
   ],
   "source": [
    "'''from keras.wrappers.scikit_learn import KerasClassifier\n",
    "from sklearn.model_selection import GridSearchCV\n",
    "from sklearn.metrics import confusion_matrix,classification_report\n",
    "from keras.layers import BatchNormalization\n",
    "from keras.models import Sequential\n",
    "from keras.layers import Dropout\n",
    "from keras.layers import Dense\n",
    "import collections\n",
    "import warnings\n",
    "warnings.filterwarnings(\"ignore\")\n",
    "classifier = Sequential()\n",
    "classifier.add(Dense(units=6,kernel_initializer=\"uniform\",activation=\"relu\",input_shape=(20,)))\n",
    "classifier.add(BatchNormalization(axis=-1, momentum=0.99, epsilon=0.001, center=True, scale=True))\n",
    "classifier.add(Dense(units=6,kernel_initializer=\"uniform\",activation=\"relu\"))\n",
    "classifier.add(BatchNormalization(axis=-1, momentum=0.99, epsilon=0.001, center=True, scale=True))\n",
    "classifier.add(Dense(units=6,kernel_initializer=\"uniform\",activation=\"relu\"))\n",
    "classifier.add(BatchNormalization(axis=-1, momentum=0.99, epsilon=0.001, center=True, scale=True))\n",
    "classifier.add(Dropout(0.2))\n",
    "classifier.add(Dense(units=1,kernel_initializer=\"uniform\",activation=\"sigmoid\"))\n",
    "classifier.compile(optimizer = 'adam', loss = 'binary_crossentropy', metrics = ['accuracy'])\n",
    "classifier.fit(X_train, y_train, batch_size = 100, nb_epoch = 100)\n",
    "y_pred = classifier.predict(X_test)\n",
    "y_pred = (y_pred > 0.5)\n",
    "print(classification_report(y_test,y_pred))'''"
   ]
  },
  {
   "cell_type": "code",
   "execution_count": 803,
   "metadata": {},
   "outputs": [],
   "source": [
    "# print(accuracy_score(y_test,y_pred))"
   ]
  },
  {
   "cell_type": "code",
   "execution_count": 804,
   "metadata": {},
   "outputs": [
    {
     "data": {
      "text/plain": [
       "array([3097, 3097], dtype=int64)"
      ]
     },
     "execution_count": 804,
     "metadata": {},
     "output_type": "execute_result"
    }
   ],
   "source": [
    "# from imblearn.over_sampling import SMOTE\n",
    "# smt = SMOTE()\n",
    "# X_train, y_train = smt.fit_sample(X_train, y_train)\n",
    "# np.bincount(y_train)"
   ]
  },
  {
   "cell_type": "code",
   "execution_count": 805,
   "metadata": {},
   "outputs": [
    {
     "data": {
      "text/plain": [
       "'sc = StandardScaler()\\nX_train = sc.fit_transform(X_train)\\nX_test = sc.transform(X_test)'"
      ]
     },
     "execution_count": 805,
     "metadata": {},
     "output_type": "execute_result"
    }
   ],
   "source": [
    "'''sc = StandardScaler()\n",
    "X_train = sc.fit_transform(X_train)\n",
    "X_test = sc.transform(X_test)'''"
   ]
  },
  {
   "cell_type": "code",
   "execution_count": 806,
   "metadata": {},
   "outputs": [
    {
     "name": "stdout",
     "output_type": "stream",
     "text": [
      "0.7867281760113556\n"
     ]
    }
   ],
   "source": [
    "from sklearn.ensemble import RandomForestClassifier\n",
    "clf=RandomForestClassifier(n_estimators=100)\n",
    "clf.fit(X_train,y_train)\n",
    "y_pred=clf.predict(X_test)\n",
    "print(accuracy_score(y_test,y_pred))"
   ]
  },
  {
   "cell_type": "code",
   "execution_count": 807,
   "metadata": {},
   "outputs": [],
   "source": [
    "# np.bincount(y_test)"
   ]
  },
  {
   "cell_type": "code",
   "execution_count": 808,
   "metadata": {},
   "outputs": [],
   "source": [
    "# metrics.confusion_matrix(y_test, y_pred)"
   ]
  },
  {
   "cell_type": "code",
   "execution_count": 809,
   "metadata": {},
   "outputs": [],
   "source": [
    "# metrics.recall_score(y_test, y_pred)"
   ]
  },
  {
   "cell_type": "code",
   "execution_count": 810,
   "metadata": {},
   "outputs": [],
   "source": [
    "# from sklearn.model_selection import cross_val_score,KNeighborsClassifier\n",
    "# knn = KNeighborsClassifier(n_neighbors=5)\n",
    "# scores = cross_val_score(knn, X, y, cv=10, scoring='accuracy')\n",
    "# print(scores)"
   ]
  },
  {
   "cell_type": "code",
   "execution_count": 811,
   "metadata": {},
   "outputs": [],
   "source": [
    "# print(scores.mean())"
   ]
  }
 ],
 "metadata": {
  "kernelspec": {
   "display_name": "Python 3",
   "language": "python",
   "name": "python3"
  },
  "language_info": {
   "codemirror_mode": {
    "name": "ipython",
    "version": 3
   },
   "file_extension": ".py",
   "mimetype": "text/x-python",
   "name": "python",
   "nbconvert_exporter": "python",
   "pygments_lexer": "ipython3",
   "version": "3.7.2"
  }
 },
 "nbformat": 4,
 "nbformat_minor": 2
}
